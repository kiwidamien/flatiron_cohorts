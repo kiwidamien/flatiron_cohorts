{
 "cells": [
  {
   "cell_type": "code",
   "execution_count": 1,
   "metadata": {
    "ExecuteTime": {
     "end_time": "2019-04-20T20:21:36.123285Z",
     "start_time": "2019-04-20T20:21:35.052184Z"
    }
   },
   "outputs": [],
   "source": [
    "import pandas as pd\n",
    "import numpy as np\n",
    "import matplotlib.pyplot as plt\n",
    "\n",
    "%matplotlib inline"
   ]
  },
  {
   "cell_type": "code",
   "execution_count": 2,
   "metadata": {},
   "outputs": [],
   "source": [
    "from pandas.plotting import register_matplotlib_converters\n",
    "register_matplotlib_converters()"
   ]
  },
  {
   "cell_type": "code",
   "execution_count": 3,
   "metadata": {
    "ExecuteTime": {
     "end_time": "2019-04-20T20:21:38.883446Z",
     "start_time": "2019-04-20T20:21:38.738251Z"
    }
   },
   "outputs": [
    {
     "data": {
      "text/html": [
       "<div>\n",
       "<style scoped>\n",
       "    .dataframe tbody tr th:only-of-type {\n",
       "        vertical-align: middle;\n",
       "    }\n",
       "\n",
       "    .dataframe tbody tr th {\n",
       "        vertical-align: top;\n",
       "    }\n",
       "\n",
       "    .dataframe thead th {\n",
       "        text-align: right;\n",
       "    }\n",
       "</style>\n",
       "<table border=\"1\" class=\"dataframe\">\n",
       "  <thead>\n",
       "    <tr style=\"text-align: right;\">\n",
       "      <th></th>\n",
       "      <th>created_at</th>\n",
       "      <th>forks_count</th>\n",
       "      <th>full_name</th>\n",
       "      <th>id</th>\n",
       "      <th>name</th>\n",
       "      <th>owner</th>\n",
       "      <th>updated_at</th>\n",
       "    </tr>\n",
       "  </thead>\n",
       "  <tbody>\n",
       "    <tr>\n",
       "      <th>0</th>\n",
       "      <td>2019-04-20 01:55:53+00:00</td>\n",
       "      <td>0</td>\n",
       "      <td>williamjfermo/python-variables-lab-data-scienc...</td>\n",
       "      <td>182347410</td>\n",
       "      <td>python-variables-lab-data-science-intro-000</td>\n",
       "      <td>{'login': 'williamjfermo', 'id': 49126800, 'no...</td>\n",
       "      <td>2019-04-20 01:55:55+00:00</td>\n",
       "    </tr>\n",
       "    <tr>\n",
       "      <th>1</th>\n",
       "      <td>2019-04-19 21:59:47+00:00</td>\n",
       "      <td>0</td>\n",
       "      <td>Erica-Brown/python-variables-lab-data-science-...</td>\n",
       "      <td>182330408</td>\n",
       "      <td>python-variables-lab-data-science-intro-000</td>\n",
       "      <td>{'login': 'Erica-Brown', 'id': 29965520, 'node...</td>\n",
       "      <td>2019-04-19 21:59:49+00:00</td>\n",
       "    </tr>\n",
       "    <tr>\n",
       "      <th>2</th>\n",
       "      <td>2019-04-19 19:10:50+00:00</td>\n",
       "      <td>0</td>\n",
       "      <td>SaidaZardi/python-variables-lab-data-science-i...</td>\n",
       "      <td>182313462</td>\n",
       "      <td>python-variables-lab-data-science-intro-000</td>\n",
       "      <td>{'login': 'SaidaZardi', 'id': 49793762, 'node_...</td>\n",
       "      <td>2019-04-19 19:10:52+00:00</td>\n",
       "    </tr>\n",
       "    <tr>\n",
       "      <th>3</th>\n",
       "      <td>2019-04-19 18:22:28+00:00</td>\n",
       "      <td>0</td>\n",
       "      <td>laueternal/python-variables-lab-data-science-i...</td>\n",
       "      <td>182307952</td>\n",
       "      <td>python-variables-lab-data-science-intro-000</td>\n",
       "      <td>{'login': 'laueternal', 'id': 8890823, 'node_i...</td>\n",
       "      <td>2019-04-19 18:22:31+00:00</td>\n",
       "    </tr>\n",
       "    <tr>\n",
       "      <th>4</th>\n",
       "      <td>2019-04-19 18:07:25+00:00</td>\n",
       "      <td>0</td>\n",
       "      <td>vsdynamite/python-variables-lab-data-science-i...</td>\n",
       "      <td>182306162</td>\n",
       "      <td>python-variables-lab-data-science-intro-000</td>\n",
       "      <td>{'login': 'vsdynamite', 'id': 49765426, 'node_...</td>\n",
       "      <td>2019-04-19 18:07:27+00:00</td>\n",
       "    </tr>\n",
       "  </tbody>\n",
       "</table>\n",
       "</div>"
      ],
      "text/plain": [
       "                 created_at  forks_count  \\\n",
       "0 2019-04-20 01:55:53+00:00            0   \n",
       "1 2019-04-19 21:59:47+00:00            0   \n",
       "2 2019-04-19 19:10:50+00:00            0   \n",
       "3 2019-04-19 18:22:28+00:00            0   \n",
       "4 2019-04-19 18:07:25+00:00            0   \n",
       "\n",
       "                                           full_name         id  \\\n",
       "0  williamjfermo/python-variables-lab-data-scienc...  182347410   \n",
       "1  Erica-Brown/python-variables-lab-data-science-...  182330408   \n",
       "2  SaidaZardi/python-variables-lab-data-science-i...  182313462   \n",
       "3  laueternal/python-variables-lab-data-science-i...  182307952   \n",
       "4  vsdynamite/python-variables-lab-data-science-i...  182306162   \n",
       "\n",
       "                                          name  \\\n",
       "0  python-variables-lab-data-science-intro-000   \n",
       "1  python-variables-lab-data-science-intro-000   \n",
       "2  python-variables-lab-data-science-intro-000   \n",
       "3  python-variables-lab-data-science-intro-000   \n",
       "4  python-variables-lab-data-science-intro-000   \n",
       "\n",
       "                                               owner                updated_at  \n",
       "0  {'login': 'williamjfermo', 'id': 49126800, 'no... 2019-04-20 01:55:55+00:00  \n",
       "1  {'login': 'Erica-Brown', 'id': 29965520, 'node... 2019-04-19 21:59:49+00:00  \n",
       "2  {'login': 'SaidaZardi', 'id': 49793762, 'node_... 2019-04-19 19:10:52+00:00  \n",
       "3  {'login': 'laueternal', 'id': 8890823, 'node_i... 2019-04-19 18:22:31+00:00  \n",
       "4  {'login': 'vsdynamite', 'id': 49765426, 'node_... 2019-04-19 18:07:27+00:00  "
      ]
     },
     "execution_count": 3,
     "metadata": {},
     "output_type": "execute_result"
    }
   ],
   "source": [
    "# Note that the pickle files need Python >= 0.24 (protocol update?)\n",
    "flatiron = pd.read_pickle('scraped_data/flatiron.pkl')\n",
    "flatiron.head()"
   ]
  },
  {
   "cell_type": "code",
   "execution_count": 4,
   "metadata": {
    "ExecuteTime": {
     "end_time": "2019-04-20T20:21:50.958580Z",
     "start_time": "2019-04-20T20:21:50.940470Z"
    }
   },
   "outputs": [
    {
     "data": {
      "image/png": "[encoded data removed]",
      "text/plain": [
       "<Figure size 864x432 with 1 Axes>"
      ]
     },
     "metadata": {
      "needs_background": "light"
     },
     "output_type": "display_data"
    }
   ],
   "source": [
    "flatiron_aggregate = flatiron.set_index('created_at').resample('W').count()['forks_count']\n",
    "flatiron_aggregate.head()\n",
    "\n",
    "plt.figure(figsize=(12,6))\n",
    "plt.plot(flatiron_aggregate)\n",
    "plt.ylabel('num forks')\n",
    "plt.title('Number of Forks created by week');\n",
    "\n",
    "plt.savefig('figs/weekly_forks.png')"
   ]
  },
  {
   "cell_type": "code",
   "execution_count": null,
   "metadata": {},
   "outputs": [],
   "source": []
  }
 ],
 "metadata": {
  "kernelspec": {
   "display_name": "metis",
   "language": "python",
   "name": "metis"
  },
  "language_info": {
   "codemirror_mode": {
    "name": "ipython",
    "version": 3
   },
   "file_extension": ".py",
   "mimetype": "text/x-python",
   "name": "python",
   "nbconvert_exporter": "python",
   "pygments_lexer": "ipython3",
   "version": "3.7.3"
  },
  "varInspector": {
   "cols": {
    "lenName": 16,
    "lenType": 16,
    "lenVar": 40
   },
   "kernels_config": {
    "python": {
     "delete_cmd_postfix": "",
     "delete_cmd_prefix": "del ",
     "library": "var_list.py",
     "varRefreshCmd": "print(var_dic_list())"
    },
    "r": {
     "delete_cmd_postfix": ") ",
     "delete_cmd_prefix": "rm(",
     "library": "var_list.r",
     "varRefreshCmd": "cat(var_dic_list()) "
    }
   },
   "types_to_exclude": [
    "module",
    "function",
    "builtin_function_or_method",
    "instance",
    "_Feature"
   ],
   "window_display": false
  }
 },
 "nbformat": 4,
 "nbformat_minor": 2
}
